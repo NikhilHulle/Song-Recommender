{
 "cells": [
  {
   "cell_type": "code",
   "execution_count": 11,
   "metadata": {},
   "outputs": [],
   "source": [
    "import numpy as np\n",
    "import pandas as pd\n",
    "import spotipy\n",
    "from spotipy.oauth2 import SpotifyClientCredentials\n",
    "import os"
   ]
  },
  {
   "cell_type": "code",
   "execution_count": 12,
   "metadata": {},
   "outputs": [
    {
     "name": "stdout",
     "output_type": "stream",
     "text": [
      "Requirement already satisfied: spotipy in /Users/nikhilhulle/miniforge3/lib/python3.10/site-packages (2.24.0)\r\n",
      "Requirement already satisfied: urllib3>=1.26.0 in /Users/nikhilhulle/miniforge3/lib/python3.10/site-packages (from spotipy) (1.26.14)\r\n",
      "Requirement already satisfied: redis>=3.5.3 in /Users/nikhilhulle/miniforge3/lib/python3.10/site-packages (from spotipy) (5.0.7)\r\n",
      "Requirement already satisfied: requests>=2.25.0 in /Users/nikhilhulle/miniforge3/lib/python3.10/site-packages (from spotipy) (2.32.3)\r\n",
      "Requirement already satisfied: async-timeout>=4.0.3 in /Users/nikhilhulle/miniforge3/lib/python3.10/site-packages (from redis>=3.5.3->spotipy) (4.0.3)\r\n",
      "Requirement already satisfied: idna<4,>=2.5 in /Users/nikhilhulle/miniforge3/lib/python3.10/site-packages (from requests>=2.25.0->spotipy) (3.4)\r\n",
      "Requirement already satisfied: charset-normalizer<4,>=2 in /Users/nikhilhulle/miniforge3/lib/python3.10/site-packages (from requests>=2.25.0->spotipy) (2.1.1)\r\n",
      "Requirement already satisfied: certifi>=2017.4.17 in /Users/nikhilhulle/miniforge3/lib/python3.10/site-packages (from requests>=2.25.0->spotipy) (2022.12.7)\r\n"
     ]
    }
   ],
   "source": [
    "!pip install spotipy"
   ]
  },
  {
   "cell_type": "code",
   "execution_count": 38,
   "metadata": {},
   "outputs": [],
   "source": [
    "os.environ['SPOTIPY_CLIENT_ID'] = ''\n",
    "os.environ['SPOTIPY_CLIENT_SECRET'] = ''"
   ]
  },
  {
   "cell_type": "code",
   "execution_count": 39,
   "metadata": {},
   "outputs": [],
   "source": [
    "# spotify = spotipy.Spotify(auth_manager=SpotifyClientCredentials())\n",
    "\n",
    "client_credentials_manager = SpotifyClientCredentials(\n",
    "    client_id=os.environ['SPOTIPY_CLIENT_ID'],\n",
    "    client_secret=os.environ['SPOTIPY_CLIENT_SECRET']\n",
    ")\n",
    "spotify = spotipy.Spotify(client_credentials_manager=client_credentials_manager)"
   ]
  },
  {
   "cell_type": "code",
   "execution_count": 40,
   "metadata": {},
   "outputs": [],
   "source": [
    "# Get details of a specific playlist\n",
    "def get_playlist_details(spotify,playlist_id):\n",
    "    playlist_details = []\n",
    "    offset = 0\n",
    "    while offset<10000:\n",
    "        items = spotify.playlist_items(playlist_id,market='US',offset=offset)[\"items\"]\n",
    "        playlist_details = playlist_details + items\n",
    "        offset+=100\n",
    "    return playlist_details"
   ]
  },
  {
   "cell_type": "code",
   "execution_count": 62,
   "metadata": {},
   "outputs": [],
   "source": [
    "# Replace the playlist id if you want to extract songs from a different playlist\n",
    "playlist_id = '1G8IpkZKobrIlXcVPoSIuf'\n",
    "playlist_details = get_playlist_details(spotify,playlist_id)"
   ]
  },
  {
   "cell_type": "code",
   "execution_count": 63,
   "metadata": {},
   "outputs": [],
   "source": [
    "# Fetch track ids residing within a playlist\n",
    "def get_track_ids(playlist):\n",
    "    track_ids = []\n",
    "    for track in playlist_details:\n",
    "        if track[\"track\"]:\n",
    "            if track[\"track\"][\"id\"]:\n",
    "                track_ids.append(track[\"track\"][\"id\"])\n",
    "    return track_ids"
   ]
  },
  {
   "cell_type": "code",
   "execution_count": 64,
   "metadata": {},
   "outputs": [],
   "source": [
    "track_ids = get_track_ids(playlist_details)"
   ]
  },
  {
   "cell_type": "code",
   "execution_count": 65,
   "metadata": {},
   "outputs": [],
   "source": [
    "# Get details of a track\n",
    "def get_track_details(track_ids):\n",
    "    tracks = []\n",
    "    artists = []\n",
    "    count=0\n",
    "    for track_id in track_ids:\n",
    "        track = spotify.track(track_id)\n",
    "        track_dic = {}\n",
    "\n",
    "        artists.append([artist['id'] for artist in track['artists']])\n",
    "        track_dic['track_name'] = track['name']\n",
    "        track_dic['track_popularity'] = track['popularity']\n",
    "        track_dic['album_released_date'] = track['album']['release_date']\n",
    "        track_dic['id'] = track['id']\n",
    "        track_dic['album_id'] = track['album']['id']\n",
    "        track_dic['album_name'] = track['album']['name']\n",
    "        track_dic['album_type'] = track['album']['type']\n",
    "        tracks.append(track_dic)\n",
    "        count+=1\n",
    "        print(count)\n",
    "    return (tracks,artists)"
   ]
  },
  {
   "cell_type": "code",
   "execution_count": null,
   "metadata": {},
   "outputs": [],
   "source": [
    "tracks,artist_ids = get_track_details(track_ids)"
   ]
  },
  {
   "cell_type": "code",
   "execution_count": 48,
   "metadata": {},
   "outputs": [
    {
     "ename": "NameError",
     "evalue": "name 'tracks_truncated' is not defined",
     "output_type": "error",
     "traceback": [
      "\u001b[0;31m---------------------------------------------------------------------------\u001b[0m",
      "\u001b[0;31mNameError\u001b[0m                                 Traceback (most recent call last)",
      "Cell \u001b[0;32mIn[48], line 1\u001b[0m\n\u001b[0;32m----> 1\u001b[0m \u001b[43mtracks_truncated\u001b[49m\u001b[38;5;241m.\u001b[39mhead()\n",
      "\u001b[0;31mNameError\u001b[0m: name 'tracks_truncated' is not defined"
     ]
    }
   ],
   "source": [
    "tracks_truncated.head()"
   ]
  },
  {
   "cell_type": "code",
   "execution_count": 52,
   "metadata": {},
   "outputs": [
    {
     "ename": "NameError",
     "evalue": "name 'tracks' is not defined",
     "output_type": "error",
     "traceback": [
      "\u001b[0;31m---------------------------------------------------------------------------\u001b[0m",
      "\u001b[0;31mNameError\u001b[0m                                 Traceback (most recent call last)",
      "Cell \u001b[0;32mIn[52], line 1\u001b[0m\n\u001b[0;32m----> 1\u001b[0m tracks_truncated \u001b[38;5;241m=\u001b[39m pd\u001b[38;5;241m.\u001b[39mDataFrame\u001b[38;5;241m.\u001b[39mfrom_records(\u001b[43mtracks\u001b[49m)\n",
      "\u001b[0;31mNameError\u001b[0m: name 'tracks' is not defined"
     ]
    }
   ],
   "source": [
    "tracks_truncated = pd.DataFrame.from_records(tracks)"
   ]
  },
  {
   "cell_type": "code",
   "execution_count": 17,
   "metadata": {},
   "outputs": [],
   "source": [
    "tracks_truncated['artist_id'] = artist_ids"
   ]
  },
  {
   "cell_type": "code",
   "execution_count": 18,
   "metadata": {},
   "outputs": [],
   "source": [
    "tracks_truncated.to_csv('../data/truncated_tracks.csv')"
   ]
  },
  {
   "cell_type": "code",
   "execution_count": 4,
   "metadata": {},
   "outputs": [],
   "source": [
    "tracks_truncated = pd.read_csv('../data/truncated_tracks.csv',index_col=0)"
   ]
  },
  {
   "cell_type": "code",
   "execution_count": 13,
   "metadata": {},
   "outputs": [],
   "source": [
    "tracks_truncated['artist_id'] = tracks_truncated['artist_id'].apply(eval)"
   ]
  },
  {
   "cell_type": "code",
   "execution_count": 12,
   "metadata": {},
   "outputs": [],
   "source": [
    "# Fetching artist details for a track\n",
    "def get_artist_details_for_track(spotify,artists_ids,track_ids):\n",
    "    \n",
    "    # artist information to be returned\n",
    "    genres = []\n",
    "    popularity = []\n",
    "    artist_names = []\n",
    "    \n",
    "    # batch arrays acting as a buffer for the output of aritist API\n",
    "    artists_batch = []\n",
    "    group_counter = 0\n",
    "    track_id_batch = []\n",
    "    \n",
    "    for artist_id_group,track_id,index in zip(artists_ids,track_ids,list(range(len(artists_ids)))):\n",
    "        \n",
    "        #check if the length of a batch does not exceed 50 (maximum api batch size input constraint)\n",
    "        if ((len(artist_id_group) + len(artists_batch)) <= 50 and (index<len(artists_ids)-1)):\n",
    "            group_counter += 1\n",
    "            artists_batch = artists_batch + artist_id_group\n",
    "            track_id_batch.append(track_id)\n",
    "        else:\n",
    "            if index==len(artists_ids)-1:\n",
    "                artists_batch = artists_batch + artist_id_group\n",
    "        \n",
    "            # API call to the artist function\n",
    "            artist_details = spotify.artists(artists_batch)\n",
    "            offset = 0\n",
    "            \n",
    "            # extracting artist details and appending it to the output arrays\n",
    "            for group_index in range(group_counter):\n",
    "                group_size = len(artists_ids[group_index])\n",
    "                genres.append((([artist['genres'] for artist in artist_details['artists'][offset:offset+group_size]]),track_id_batch[group_index]))\n",
    "                popularity.append((([artist['popularity'] for artist in artist_details['artists'][offset:offset+group_size]]),track_id_batch[group_index]))\n",
    "                artist_names.append((([artist['name'] for artist in artist_details['artists'][offset:offset+group_size]]),track_id_batch[group_index]))\n",
    "                offset+=group_size\n",
    "            \n",
    "            # resetting batch parameters for the next bacth\n",
    "            artists_batch=[]\n",
    "            track_id_batch=[]\n",
    "            group_counter = 0\n",
    "    \n",
    "    return (genres,popularity,artist_names)"
   ]
  },
  {
   "cell_type": "code",
   "execution_count": 14,
   "metadata": {},
   "outputs": [],
   "source": [
    "artist_ids = list(tracks_truncated['artist_id'])\n",
    "track_ids = list(tracks_truncated['id'])\n",
    "genres,popularity,artist_names = get_artist_details_for_track(spotify,artist_ids,track_ids)"
   ]
  },
  {
   "cell_type": "code",
   "execution_count": 15,
   "metadata": {
    "collapsed": true
   },
   "outputs": [
    {
     "data": {
      "text/plain": [
       "[(['Bob Dylan'], '3AhXZa8sUQht0UEdBJgpGc'),\n",
       " (['Nirvana'], '5ghIJDpPoe3CfHMGu71E6T'),\n",
       " (['The Beatles'], '0hKRSZhUGEhKU6aNSPBACZ'),\n",
       " (['The Beach Boys'], '5Qt4Cc66g24QWwGP3YYV9y'),\n",
       " (['Chuck Berry'], '2QfiRTz5Yc8DdShCxG1tB2'),\n",
       " (['Aretha Franklin'], '7s25THrKz86DM225dOYwnr'),\n",
       " (['The Ronettes'], '2G2YzndIA6jeWFPBXhUjh5'),\n",
       " (['Marvin Gaye'], '3Um9toULmYFGCpvaIPFw7l'),\n",
       " (['Marvin Gaye'], '1tqT6DhmsrtQgyCKUwotiw'),\n",
       " (['The Rolling Stones'], '2PzU4IB8Dr6mxV3lHuaG34'),\n",
       " (['Michael Jackson'], '5ChkMS8OtdzJeqyybCc9R5'),\n",
       " (['Elvis Presley'], '1iUgrte2PxLxQ6Te95RnAV'),\n",
       " (['Bruce Springsteen'], '6hTcuIQa0sxrrByu9wTD7s'),\n",
       " (['The Who'], '4u9f8hqstB7iITDJNzKhQx'),\n",
       " (['Joy Division'], '34iOH7LY3vme5rQxsVILZ4'),\n",
       " (['The Beach Boys'], '6iGU74CwXuT4XVepjc9Emf'),\n",
       " (['Otis Redding'], '4Y4Gd3ty8uut6Qw43c7yJc'),\n",
       " (['Outkast'], '2PpruBYCo4H7WOBJ7Q2EwM'),\n",
       " (['Sex Pistols'], '3LoDeIbiR12sAznmpNEmKA'),\n",
       " (['M.I.A.'], '1ixbwbeBi5ufN4noUKmW5a'),\n",
       " (['The Clash'], '5jzma6gCzYtKB1DbEwFZKH'),\n",
       " (['The Rolling Stones'], '1Ud6moTC0KyXMq1Oxfien0'),\n",
       " (['The Beatles'], '3Am0IbOxmvlSXro7N5iSfZ'),\n",
       " (['Little Richard'], '2iXcvnD3d1gfLBum0cE5Eg'),\n",
       " (['Led Zeppelin'], '5CQ30WqJwcep0pYcV4AMNc'),\n",
       " (['Grandmaster Flash & The Furious Five',\n",
       "   'Grandmaster Melle Mel',\n",
       "   'Duke Bootee'],\n",
       "  '5DuTNKFEjJIySAyJH1yNDU'),\n",
       " (['Ray Charles'], '3JvDEbXLKUxaNv0D0txup5'),\n",
       " (['John Lennon'], '7pKfPomDEeI4TPT6EOYjn9'),\n",
       " (['Sam Cooke'], '0KOE1hat4SIer491XKk4Pa'),\n",
       " (['David Bowie'], '7Jh1bpe76CNTCgdgAdBw4Z'),\n",
       " (['Prince'], '51H2y6YrNNXcy3dfc3qSbA'),\n",
       " (['Stevie Wonder'], '4N0TP4Rmj6QQezWV88ARNJ'),\n",
       " (['Pulp'], '2fXKyAyPrEa24c6PJyqznF'),\n",
       " (['The Rolling Stones'], '6H3kDe7CGoWYBabAeVWGiD'),\n",
       " (['Billie Holiday'], '1CTex49P0iWwzUGsMNjgaV'),\n",
       " (['The Kinks'], '29SyMC0plk6qw8NMF7lfRL'),\n",
       " (['Beyoncé', 'JAY-Z'], '5IVuqXILoxVWvWEPm82Jxr'),\n",
       " (['The White Stripes'], '3dPQuX8Gs42Y7b454ybpMR'),\n",
       " (['R.E.M.'], '31AOj9sFz2gM0O3hMARRBx'),\n",
       " (['Sex Pistols'], '6ui6l3ZNvlrGQZArwo8195'),\n",
       " (['Queen'], '7tFiyTwD0nx5a1eklYtX2J'),\n",
       " (['New Order'], '6hHc7Pks7wtBIW8Z6A0iFq'),\n",
       " (['Jimi Hendrix'], '0wJoRiX5K5BxlqZTolB2LD'),\n",
       " (['The Kingsmen'], '0iA3xXSkSCiJywKyo1UKjQ'),\n",
       " (['The Jackson 5'], '5LxvwujISqiB8vpRYv887S'),\n",
       " (['Gnarls Barkley'], '2N5zMZX7YeL1tico8oQxa9'),\n",
       " (['The Righteous Brothers'], '6AeyHqzNHJthYJbn0tvJ4b'),\n",
       " (['The Kinks'], '5nrmGFJ87crVoJF5xdRqwn'),\n",
       " (['Franz Ferdinand'], '20I8RduZC2PWMWTDCZuuAN'),\n",
       " (['Missy Elliott'], '13KEdaWIc7T6ozEmnJjHy1'),\n",
       " (['Buddy Holly'], '50RwvvEKX5Q7AZt8FTAwIF'),\n",
       " (['The Doors'], '5uvosCdMlFdTXhoazkTI5R'),\n",
       " (['Donna Summer'], '3x0wa95iAU1ZMmf3yAQkjZ'),\n",
       " (['The Smiths'], '0WQiDwKJclirSYG9v5tayI'),\n",
       " (['David Bowie'], '72Z17vmmeQKAg8bptWvpVG'),\n",
       " (['Ben E. King'], '7jmHyHMEqm9MJWiMAneF05'),\n",
       " (['The Byrds'], '2HCaIYjkvWSZzaSKUoOh3d'),\n",
       " (['The Verve'], '57iDDD9N9tTWe75x6qhStw'),\n",
       " (['Bill Haley & His Comets'], '1uRKT2LRANv4baowBWHfDS'),\n",
       " (['Derek & The Dominos'], '2kkvB3RNRzwjFdGhaUA0tz')]"
      ]
     },
     "execution_count": 15,
     "metadata": {},
     "output_type": "execute_result"
    }
   ],
   "source": [
    "artist_names[0:60]"
   ]
  },
  {
   "cell_type": "code",
   "execution_count": 16,
   "metadata": {},
   "outputs": [],
   "source": [
    "genre_df = pd.DataFrame(genres, columns =['genre', 'track_id'])"
   ]
  },
  {
   "cell_type": "code",
   "execution_count": 19,
   "metadata": {},
   "outputs": [],
   "source": [
    "popularity_df = pd.DataFrame(popularity, columns =['popularity', 'track_id'])"
   ]
  },
  {
   "cell_type": "code",
   "execution_count": 20,
   "metadata": {},
   "outputs": [],
   "source": [
    "artist_names_df = pd.DataFrame(artist_names, columns =['artist_names', 'track_id'])"
   ]
  },
  {
   "cell_type": "code",
   "execution_count": 21,
   "metadata": {},
   "outputs": [],
   "source": [
    "temp = pd.concat([artist_names_df,genre_df.drop(columns=['track_id'])],axis=1)"
   ]
  },
  {
   "cell_type": "code",
   "execution_count": 22,
   "metadata": {},
   "outputs": [],
   "source": [
    "artist_details_df = pd.concat([temp,popularity_df.drop(columns=['track_id'])],axis=1)"
   ]
  },
  {
   "cell_type": "code",
   "execution_count": 23,
   "metadata": {
    "collapsed": true
   },
   "outputs": [
    {
     "data": {
      "text/html": [
       "<div>\n",
       "<style scoped>\n",
       "    .dataframe tbody tr th:only-of-type {\n",
       "        vertical-align: middle;\n",
       "    }\n",
       "\n",
       "    .dataframe tbody tr th {\n",
       "        vertical-align: top;\n",
       "    }\n",
       "\n",
       "    .dataframe thead th {\n",
       "        text-align: right;\n",
       "    }\n",
       "</style>\n",
       "<table border=\"1\" class=\"dataframe\">\n",
       "  <thead>\n",
       "    <tr style=\"text-align: right;\">\n",
       "      <th></th>\n",
       "      <th>artist_names</th>\n",
       "      <th>track_id</th>\n",
       "      <th>genre</th>\n",
       "      <th>popularity</th>\n",
       "    </tr>\n",
       "  </thead>\n",
       "  <tbody>\n",
       "    <tr>\n",
       "      <th>0</th>\n",
       "      <td>[Bob Dylan]</td>\n",
       "      <td>3AhXZa8sUQht0UEdBJgpGc</td>\n",
       "      <td>[[album rock, classic rock, country rock, folk...</td>\n",
       "      <td>[71]</td>\n",
       "    </tr>\n",
       "    <tr>\n",
       "      <th>1</th>\n",
       "      <td>[Nirvana]</td>\n",
       "      <td>5ghIJDpPoe3CfHMGu71E6T</td>\n",
       "      <td>[[alternative rock, grunge, permanent wave, ro...</td>\n",
       "      <td>[81]</td>\n",
       "    </tr>\n",
       "    <tr>\n",
       "      <th>2</th>\n",
       "      <td>[The Beatles]</td>\n",
       "      <td>0hKRSZhUGEhKU6aNSPBACZ</td>\n",
       "      <td>[[beatlesque, british invasion, classic rock, ...</td>\n",
       "      <td>[83]</td>\n",
       "    </tr>\n",
       "    <tr>\n",
       "      <th>3</th>\n",
       "      <td>[The Beach Boys]</td>\n",
       "      <td>5Qt4Cc66g24QWwGP3YYV9y</td>\n",
       "      <td>[[baroque pop, brill building pop, classic roc...</td>\n",
       "      <td>[72]</td>\n",
       "    </tr>\n",
       "    <tr>\n",
       "      <th>4</th>\n",
       "      <td>[Chuck Berry]</td>\n",
       "      <td>2QfiRTz5Yc8DdShCxG1tB2</td>\n",
       "      <td>[[classic rock, rock, rock-and-roll, rockabilly]]</td>\n",
       "      <td>[65]</td>\n",
       "    </tr>\n",
       "    <tr>\n",
       "      <th>...</th>\n",
       "      <td>...</td>\n",
       "      <td>...</td>\n",
       "      <td>...</td>\n",
       "      <td>...</td>\n",
       "    </tr>\n",
       "    <tr>\n",
       "      <th>9727</th>\n",
       "      <td>[Animotion]</td>\n",
       "      <td>5iyCSUM7zzficwaGo8GIoc</td>\n",
       "      <td>[[new romantic, new wave, new wave pop, synthp...</td>\n",
       "      <td>[42]</td>\n",
       "    </tr>\n",
       "    <tr>\n",
       "      <th>9728</th>\n",
       "      <td>[Chris Montez]</td>\n",
       "      <td>2QSD3K3b3BJ8DPhGhQfDPW</td>\n",
       "      <td>[[adult standards, brill building pop, bubbleg...</td>\n",
       "      <td>[46]</td>\n",
       "    </tr>\n",
       "    <tr>\n",
       "      <th>9729</th>\n",
       "      <td>[The Beatles]</td>\n",
       "      <td>67mtN6BlsJR0LVyzvNZnGt</td>\n",
       "      <td>[[beatlesque, british invasion, classic rock, ...</td>\n",
       "      <td>[83]</td>\n",
       "    </tr>\n",
       "    <tr>\n",
       "      <th>9730</th>\n",
       "      <td>[Skids]</td>\n",
       "      <td>1KcxkWlRSDNchLovHnHBKP</td>\n",
       "      <td>[[new wave, pub rock, punk, scottish new wave,...</td>\n",
       "      <td>[35]</td>\n",
       "    </tr>\n",
       "    <tr>\n",
       "      <th>9731</th>\n",
       "      <td>[Redman]</td>\n",
       "      <td>3h66NhIvR5cgi2xJlUUmgd</td>\n",
       "      <td>[[east coast hip hop, gangster rap, hardcore h...</td>\n",
       "      <td>[65]</td>\n",
       "    </tr>\n",
       "  </tbody>\n",
       "</table>\n",
       "<p>9732 rows × 4 columns</p>\n",
       "</div>"
      ],
      "text/plain": [
       "          artist_names                track_id  \\\n",
       "0          [Bob Dylan]  3AhXZa8sUQht0UEdBJgpGc   \n",
       "1            [Nirvana]  5ghIJDpPoe3CfHMGu71E6T   \n",
       "2        [The Beatles]  0hKRSZhUGEhKU6aNSPBACZ   \n",
       "3     [The Beach Boys]  5Qt4Cc66g24QWwGP3YYV9y   \n",
       "4        [Chuck Berry]  2QfiRTz5Yc8DdShCxG1tB2   \n",
       "...                ...                     ...   \n",
       "9727       [Animotion]  5iyCSUM7zzficwaGo8GIoc   \n",
       "9728    [Chris Montez]  2QSD3K3b3BJ8DPhGhQfDPW   \n",
       "9729     [The Beatles]  67mtN6BlsJR0LVyzvNZnGt   \n",
       "9730           [Skids]  1KcxkWlRSDNchLovHnHBKP   \n",
       "9731          [Redman]  3h66NhIvR5cgi2xJlUUmgd   \n",
       "\n",
       "                                                  genre popularity  \n",
       "0     [[album rock, classic rock, country rock, folk...       [71]  \n",
       "1     [[alternative rock, grunge, permanent wave, ro...       [81]  \n",
       "2     [[beatlesque, british invasion, classic rock, ...       [83]  \n",
       "3     [[baroque pop, brill building pop, classic roc...       [72]  \n",
       "4     [[classic rock, rock, rock-and-roll, rockabilly]]       [65]  \n",
       "...                                                 ...        ...  \n",
       "9727  [[new romantic, new wave, new wave pop, synthp...       [42]  \n",
       "9728  [[adult standards, brill building pop, bubbleg...       [46]  \n",
       "9729  [[beatlesque, british invasion, classic rock, ...       [83]  \n",
       "9730  [[new wave, pub rock, punk, scottish new wave,...       [35]  \n",
       "9731  [[east coast hip hop, gangster rap, hardcore h...       [65]  \n",
       "\n",
       "[9732 rows x 4 columns]"
      ]
     },
     "execution_count": 23,
     "metadata": {},
     "output_type": "execute_result"
    }
   ],
   "source": [
    "artist_details_df"
   ]
  },
  {
   "cell_type": "code",
   "execution_count": 25,
   "metadata": {},
   "outputs": [],
   "source": [
    "artist_details_df.to_csv('../data/artist_details.csv')"
   ]
  },
  {
   "cell_type": "code",
   "execution_count": 26,
   "metadata": {},
   "outputs": [],
   "source": [
    "artist_details_df = pd.read_csv('../data/artist_details.csv',index_col=0)"
   ]
  },
  {
   "cell_type": "code",
   "execution_count": 27,
   "metadata": {
    "collapsed": true
   },
   "outputs": [
    {
     "data": {
      "text/plain": [
       "3qdDjz9kOvquEFbvXBYOMQ    1\n",
       "5RNOPiFhFVyTpoPmm0XNCa    1\n",
       "44KIBTGQket3oXHFIGvvIw    1\n",
       "7FIhuHZUdUxWX2hDMGdIbF    1\n",
       "722E6CPY8biq4sUnf40u6Y    1\n",
       "                         ..\n",
       "2EFtUP7BmsjHzhQqI6A4rp    1\n",
       "1qG6DKMmMrXMIC75dXy5r0    1\n",
       "5NK8jad728pj6YeqM5VJD4    1\n",
       "78kbSMbALAqKFAJ7In4lyf    1\n",
       "1kG2PZ8geznbDA8I6iWeDi    1\n",
       "Name: track_id, Length: 9732, dtype: int64"
      ]
     },
     "execution_count": 27,
     "metadata": {},
     "output_type": "execute_result"
    }
   ],
   "source": [
    "artist_details_df['track_id'].value_counts()"
   ]
  },
  {
   "cell_type": "code",
   "execution_count": 31,
   "metadata": {},
   "outputs": [],
   "source": [
    "# Fetch audio features of tracks\n",
    "def get_track_audio_features(spotify,track_ids):\n",
    "    audio_features = []\n",
    "    offset = 0\n",
    "    while offset<len(track_ids):\n",
    "        result = spotify.audio_features(track_ids[offset:offset+100])\n",
    "        audio_features = audio_features + result\n",
    "        offset+=100\n",
    "    return audio_features"
   ]
  },
  {
   "cell_type": "code",
   "execution_count": 33,
   "metadata": {
    "scrolled": true
   },
   "outputs": [],
   "source": [
    "track_audio_features = get_track_audio_features(spotify,track_ids)"
   ]
  },
  {
   "cell_type": "code",
   "execution_count": 35,
   "metadata": {
    "scrolled": true
   },
   "outputs": [],
   "source": [
    "track_audio_features_df = pd.DataFrame.from_records(track_audio_features)"
   ]
  },
  {
   "cell_type": "code",
   "execution_count": 40,
   "metadata": {},
   "outputs": [],
   "source": [
    "track_audio_features_df.to_csv('../data/track_audio_features.csv')"
   ]
  }
 ],
 "metadata": {
  "kernelspec": {
   "display_name": "Python 3 (ipykernel)",
   "language": "python",
   "name": "python3"
  },
  "language_info": {
   "codemirror_mode": {
    "name": "ipython",
    "version": 3
   },
   "file_extension": ".py",
   "mimetype": "text/x-python",
   "name": "python",
   "nbconvert_exporter": "python",
   "pygments_lexer": "ipython3",
   "version": "3.10.9"
  }
 },
 "nbformat": 4,
 "nbformat_minor": 4
}
